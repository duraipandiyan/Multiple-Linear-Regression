{
 "cells": [
  {
   "cell_type": "code",
   "execution_count": 7,
   "id": "bdb32ed1",
   "metadata": {},
   "outputs": [
    {
     "name": "stdout",
     "output_type": "stream",
     "text": [
      "Enter the R&D Amount: 2345\n",
      "Enter the Administration Amount: 23455\n",
      "Enter the Marketing Amount: 23455\n",
      "Enter the State1: 1\n",
      "Enter the State1: 0\n"
     ]
    },
    {
     "name": "stderr",
     "output_type": "stream",
     "text": [
      "C:\\Users\\durai\\anaconda3\\lib\\site-packages\\sklearn\\base.py:450: UserWarning: X does not have valid feature names, but LinearRegression was fitted with feature names\n",
      "  warnings.warn(\n"
     ]
    },
    {
     "data": {
      "text/plain": [
       "array([[46157.14005401]])"
      ]
     },
     "execution_count": 7,
     "metadata": {},
     "output_type": "execute_result"
    }
   ],
   "source": [
    "# we load the saved model using pickle \n",
    "\n",
    "import pickle as pk\n",
    "reg=pk.load(open(\"Multi_linear_regression.sav\",\"rb\"))\n",
    "R_D=int(input(\"Enter the R&D Amount: \"))\n",
    "Administration=int(input(\"Enter the Administration Amount: \"))\n",
    "Marketing=int(input(\"Enter the Marketing Amount: \"))\n",
    "State1=int(input(\"Enter the State1: \"))\n",
    "State2=int(input(\"Enter the State1: \"))\n",
    "reg.predict([[R_D,Administration,Marketing,State1,State2]])"
   ]
  },
  {
   "cell_type": "code",
   "execution_count": null,
   "id": "853dceeb",
   "metadata": {},
   "outputs": [],
   "source": []
  }
 ],
 "metadata": {
  "kernelspec": {
   "display_name": "Python 3 (ipykernel)",
   "language": "python",
   "name": "python3"
  },
  "language_info": {
   "codemirror_mode": {
    "name": "ipython",
    "version": 3
   },
   "file_extension": ".py",
   "mimetype": "text/x-python",
   "name": "python",
   "nbconvert_exporter": "python",
   "pygments_lexer": "ipython3",
   "version": "3.9.12"
  }
 },
 "nbformat": 4,
 "nbformat_minor": 5
}
